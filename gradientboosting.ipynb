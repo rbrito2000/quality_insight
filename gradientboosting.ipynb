{
 "cells": [
  {
   "cell_type": "code",
   "execution_count": 1,
   "metadata": {},
   "outputs": [],
   "source": [
    "# Importação das bibliotecas necessárias\n",
    "import pandas as pd\n",
    "import numpy as np\n",
    "from sklearn.model_selection import train_test_split\n",
    "from sklearn.preprocessing import StandardScaler, Binarizer\n",
    "from sklearn.decomposition import PCA\n",
    "from sklearn.metrics import mean_squared_error, mean_absolute_error, r2_score, accuracy_score, roc_auc_score, cohen_kappa_score\n",
    "from sklearn.ensemble import GradientBoostingRegressor\n",
    "\n",
    "# Fixando a seed para reprodutibilidade\n",
    "np.random.seed(42)"
   ]
  },
  {
   "cell_type": "code",
   "execution_count": 2,
   "metadata": {},
   "outputs": [],
   "source": [
    "# Função para calcular o R² e outras métricas para regressão\n",
    "def evaluate_regression_model(y_true, y_pred):\n",
    "    mse = mean_squared_error(y_true, y_pred)\n",
    "    mae = mean_absolute_error(y_true, y_pred)\n",
    "    r2 = r2_score(y_true, y_pred)\n",
    "    \n",
    "    # Transformar as previsões contínuas em classes binárias para calcular AUC, Cohen's Kappa e Accuracy\n",
    "    binarizer = Binarizer()\n",
    "    y_true_bin = binarizer.fit_transform(y_true.values.reshape(-1, 1)).flatten()\n",
    "    y_pred_bin = binarizer.transform(y_pred.reshape(-1, 1)).flatten()\n",
    "    \n",
    "    try:\n",
    "        auc_score = roc_auc_score(y_true_bin, y_pred_bin)\n",
    "    except ValueError:\n",
    "        auc_score = None  # Se o cálculo do AUC não for possível para algum caso específico\n",
    "\n",
    "    try:\n",
    "        cohen_k = cohen_kappa_score(y_true_bin, y_pred_bin)\n",
    "    except ValueError:\n",
    "        cohen_k = None  # Se o cálculo do Cohen's Kappa não for possível para algum caso específico\n",
    "\n",
    "    # Cálculo da acurácia\n",
    "    accuracy = accuracy_score(y_true_bin, y_pred_bin)\n",
    "    \n",
    "    return mse, mae, r2, auc_score, cohen_k, accuracy"
   ]
  },
  {
   "cell_type": "code",
   "execution_count": 3,
   "metadata": {},
   "outputs": [],
   "source": [
    "# Carregar os dados\n",
    "df = pd.read_csv('../data/weaving_rejection_dataset_updated.csv')"
   ]
  },
  {
   "cell_type": "code",
   "execution_count": 4,
   "metadata": {},
   "outputs": [],
   "source": [
    "# Separando as variáveis independentes (X) e a variável dependente (y)\n",
    "X = df.drop('Rejection', axis=1)\n",
    "y = df['Rejection']"
   ]
  },
  {
   "cell_type": "code",
   "execution_count": 5,
   "metadata": {},
   "outputs": [],
   "source": [
    "# Dividindo os dados em treino e teste com seed fixa\n",
    "X_train, X_test, y_train, y_test = train_test_split(X, y, test_size=0.3, random_state=42)"
   ]
  },
  {
   "cell_type": "code",
   "execution_count": 6,
   "metadata": {},
   "outputs": [],
   "source": [
    "# Escalando as variáveis\n",
    "scaler = StandardScaler()\n",
    "X_train_scaled = scaler.fit_transform(X_train)\n",
    "X_test_scaled = scaler.transform(X_test)"
   ]
  },
  {
   "cell_type": "code",
   "execution_count": 7,
   "metadata": {},
   "outputs": [
    {
     "data": {
      "text/plain": [
       "GradientBoostingRegressor(random_state=42)"
      ]
     },
     "execution_count": 7,
     "metadata": {},
     "output_type": "execute_result"
    }
   ],
   "source": [
    "### 1. Modelo de Gradient Boosting Regressor sem PCA\n",
    "gbr = GradientBoostingRegressor(random_state=42)\n",
    "gbr.fit(X_train_scaled, y_train)"
   ]
  },
  {
   "cell_type": "code",
   "execution_count": 8,
   "metadata": {},
   "outputs": [],
   "source": [
    "# Previsão\n",
    "y_pred = gbr.predict(X_test_scaled)"
   ]
  },
  {
   "cell_type": "code",
   "execution_count": 9,
   "metadata": {},
   "outputs": [],
   "source": [
    "# Avaliação do modelo\n",
    "mse, mae, r2, auc_score, cohen_k, accuracy = evaluate_regression_model(y_test, y_pred)"
   ]
  },
  {
   "cell_type": "code",
   "execution_count": 11,
   "metadata": {},
   "outputs": [
    {
     "name": "stdout",
     "output_type": "stream",
     "text": [
      "### Gradient Boosting Regressor sem PCA ###\n",
      "Mean Squared Error (MSE): 2358.7944\n",
      "Mean Absolute Error (MAE): 23.1538\n",
      "R²: 0.9215\n",
      "AUC: 0.5852\n",
      "Cohen's Kappa: 0.2184\n",
      "Accuracy: 0.7385\n"
     ]
    }
   ],
   "source": [
    "print(f\"### Gradient Boosting Regressor sem PCA ###\")\n",
    "print(f\"Mean Squared Error (MSE): {mse:.4f}\")\n",
    "print(f\"Mean Absolute Error (MAE): {mae:.4f}\")\n",
    "print(f\"R²: {r2:.4f}\")\n",
    "if auc_score is not None:\n",
    "    print(f\"AUC: {auc_score:.4f}\")\n",
    "else:\n",
    "    print(\"AUC: N/A\")\n",
    "if cohen_k is not None:\n",
    "    print(f\"Cohen's Kappa: {cohen_k:.4f}\")\n",
    "else:\n",
    "    print(\"Cohen's Kappa: N/A\")\n",
    "print(f\"Accuracy: {accuracy:.4f}\")"
   ]
  },
  {
   "cell_type": "code",
   "execution_count": 12,
   "metadata": {},
   "outputs": [],
   "source": [
    "### 2. Modelo de Gradient Boosting Regressor com PCA\n",
    "# Aplicar PCA\n",
    "pca = PCA(n_components=0.95, random_state=42)  # Mantém 95% da variância\n",
    "X_train_pca = pca.fit_transform(X_train_scaled)\n",
    "X_test_pca = pca.transform(X_test_scaled)"
   ]
  },
  {
   "cell_type": "code",
   "execution_count": 13,
   "metadata": {},
   "outputs": [
    {
     "data": {
      "text/plain": [
       "GradientBoostingRegressor(random_state=42)"
      ]
     },
     "execution_count": 13,
     "metadata": {},
     "output_type": "execute_result"
    }
   ],
   "source": [
    "# Treinar o modelo com PCA\n",
    "gbr_pca = GradientBoostingRegressor(random_state=42)\n",
    "gbr_pca.fit(X_train_pca, y_train)"
   ]
  },
  {
   "cell_type": "code",
   "execution_count": 14,
   "metadata": {},
   "outputs": [],
   "source": [
    "# Previsão\n",
    "y_pred_pca = gbr_pca.predict(X_test_pca)"
   ]
  },
  {
   "cell_type": "code",
   "execution_count": 15,
   "metadata": {},
   "outputs": [],
   "source": [
    "# Avaliação do modelo com PCA\n",
    "mse_pca, mae_pca, r2_pca, auc_score_pca, cohen_k_pca, accuracy_pca = evaluate_regression_model(y_test, y_pred_pca)"
   ]
  },
  {
   "cell_type": "code",
   "execution_count": 16,
   "metadata": {},
   "outputs": [
    {
     "name": "stdout",
     "output_type": "stream",
     "text": [
      "\n",
      "### Gradient Boosting Regressor com PCA ###\n",
      "Mean Squared Error (MSE): 2790.6743\n",
      "Mean Absolute Error (MAE): 26.8845\n",
      "R²: 0.9071\n",
      "AUC: 0.5260\n",
      "Cohen's Kappa: 0.0699\n",
      "Accuracy: 0.7035\n"
     ]
    }
   ],
   "source": [
    "print(f\"\\n### Gradient Boosting Regressor com PCA ###\")\n",
    "print(f\"Mean Squared Error (MSE): {mse_pca:.4f}\")\n",
    "print(f\"Mean Absolute Error (MAE): {mae_pca:.4f}\")\n",
    "print(f\"R²: {r2_pca:.4f}\")\n",
    "if auc_score_pca is not None:\n",
    "    print(f\"AUC: {auc_score_pca:.4f}\")\n",
    "else:\n",
    "    print(\"AUC: N/A\")\n",
    "if cohen_k_pca is not None:\n",
    "    print(f\"Cohen's Kappa: {cohen_k_pca:.4f}\")\n",
    "else:\n",
    "    print(\"Cohen's Kappa: N/A\")\n",
    "print(f\"Accuracy: {accuracy_pca:.4f}\")"
   ]
  }
 ],
 "metadata": {
  "kernelspec": {
   "display_name": "base",
   "language": "python",
   "name": "python3"
  },
  "language_info": {
   "codemirror_mode": {
    "name": "ipython",
    "version": 3
   },
   "file_extension": ".py",
   "mimetype": "text/x-python",
   "name": "python",
   "nbconvert_exporter": "python",
   "pygments_lexer": "ipython3",
   "version": "3.8.3"
  }
 },
 "nbformat": 4,
 "nbformat_minor": 2
}
