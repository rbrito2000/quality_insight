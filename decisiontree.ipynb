{
 "cells": [
  {
   "cell_type": "code",
   "execution_count": 1,
   "metadata": {},
   "outputs": [],
   "source": [
    "# Importação das bibliotecas necessárias\n",
    "import pandas as pd\n",
    "import numpy as np\n",
    "from sklearn.model_selection import train_test_split\n",
    "from sklearn.tree import DecisionTreeClassifier\n",
    "from sklearn.decomposition import PCA\n",
    "from sklearn.metrics import accuracy_score, roc_auc_score, cohen_kappa_score\n",
    "from sklearn.preprocessing import StandardScaler\n",
    "\n",
    "# Fixando a seed para reprodutibilidade\n",
    "np.random.seed(42)"
   ]
  },
  {
   "cell_type": "code",
   "execution_count": 2,
   "metadata": {},
   "outputs": [],
   "source": [
    "# Função para calcular o R^2 para classificadores\n",
    "def pseudo_r2(y_true, y_pred_proba):\n",
    "    ll_null = np.sum(np.log(np.mean(y_true) * np.ones(len(y_true))))  # log-likelihood nula\n",
    "    ll_model = np.sum(np.log(y_pred_proba))  # log-likelihood do modelo\n",
    "    return 1 - (ll_model / ll_null)"
   ]
  },
  {
   "cell_type": "code",
   "execution_count": 3,
   "metadata": {},
   "outputs": [],
   "source": [
    "# Função para avaliar o modelo\n",
    "def evaluate_model(y_true, y_pred, y_pred_proba):\n",
    "    accuracy = accuracy_score(y_true, y_pred)\n",
    "    \n",
    "    # AUC para multiclasse, especificando 'ovr' (one-vs-rest)\n",
    "    try:\n",
    "        auc_score = roc_auc_score(y_true, y_pred_proba, multi_class='ovr')\n",
    "    except ValueError:\n",
    "        auc_score = None  # Se o cálculo do AUC não for possível para algum caso específico\n",
    "    \n",
    "    cohen_k = cohen_kappa_score(y_true, y_pred)\n",
    "    r2 = pseudo_r2(y_true, y_pred_proba)\n",
    "\n",
    "    return accuracy, auc_score, cohen_k, r2"
   ]
  },
  {
   "cell_type": "code",
   "execution_count": 4,
   "metadata": {},
   "outputs": [],
   "source": [
    "# Carregar os dados\n",
    "df = pd.read_csv('../data/weaving_rejection_dataset_updated.csv')"
   ]
  },
  {
   "cell_type": "code",
   "execution_count": 5,
   "metadata": {},
   "outputs": [],
   "source": [
    "# Separando as variáveis independentes (X) e a variável dependente (y)\n",
    "X = df.drop('Rejection', axis=1)\n",
    "y = df['Rejection']"
   ]
  },
  {
   "cell_type": "code",
   "execution_count": 6,
   "metadata": {},
   "outputs": [],
   "source": [
    "# Dividindo os dados em treino e teste com seed fixa\n",
    "X_train, X_test, y_train, y_test = train_test_split(X, y, test_size=0.3, random_state=42)"
   ]
  },
  {
   "cell_type": "code",
   "execution_count": 7,
   "metadata": {},
   "outputs": [],
   "source": [
    "# Escalando as variáveis\n",
    "scaler = StandardScaler()\n",
    "X_train_scaled = scaler.fit_transform(X_train)\n",
    "X_test_scaled = scaler.transform(X_test)"
   ]
  },
  {
   "cell_type": "code",
   "execution_count": 8,
   "metadata": {},
   "outputs": [
    {
     "data": {
      "text/plain": [
       "DecisionTreeClassifier(random_state=42)"
      ]
     },
     "execution_count": 8,
     "metadata": {},
     "output_type": "execute_result"
    }
   ],
   "source": [
    "### 1. Modelo Decision Tree sem PCA\n",
    "decision_tree = DecisionTreeClassifier(random_state=42)\n",
    "decision_tree.fit(X_train_scaled, y_train)"
   ]
  },
  {
   "cell_type": "code",
   "execution_count": 10,
   "metadata": {},
   "outputs": [],
   "source": [
    "# Previsão\n",
    "y_pred = decision_tree.predict(X_test_scaled)\n",
    "y_pred_proba = decision_tree.predict_proba(X_test_scaled)  # Previsões de probabilidade para todas as classes"
   ]
  },
  {
   "cell_type": "code",
   "execution_count": 11,
   "metadata": {},
   "outputs": [
    {
     "name": "stderr",
     "output_type": "stream",
     "text": [
      "<ipython-input-2-75fbf0783972>:4: RuntimeWarning: divide by zero encountered in log\n",
      "  ll_model = np.sum(np.log(y_pred_proba))  # log-likelihood do modelo\n"
     ]
    }
   ],
   "source": [
    "# Avaliação do modelo\n",
    "accuracy, auc_score, cohen_k, r2 = evaluate_model(y_test, y_pred, y_pred_proba)"
   ]
  },
  {
   "cell_type": "code",
   "execution_count": 12,
   "metadata": {},
   "outputs": [
    {
     "name": "stdout",
     "output_type": "stream",
     "text": [
      "### Decision Tree sem PCA ###\n",
      "Accuracy: 0.8021\n",
      "AUC: N/A\n",
      "Cohen's Kappa: 0.7795\n",
      "Pseudo R²: inf\n"
     ]
    }
   ],
   "source": [
    "print(f\"### Decision Tree sem PCA ###\")\n",
    "print(f\"Accuracy: {accuracy:.4f}\")\n",
    "if auc_score is not None:\n",
    "    print(f\"AUC: {auc_score:.4f}\")\n",
    "else:\n",
    "    print(\"AUC: N/A\")\n",
    "print(f\"Cohen's Kappa: {cohen_k:.4f}\")\n",
    "print(f\"Pseudo R²: {r2:.4f}\")"
   ]
  },
  {
   "cell_type": "code",
   "execution_count": 13,
   "metadata": {},
   "outputs": [],
   "source": [
    "### 2. Modelo Decision Tree com PCA\n",
    "# Aplicar PCA\n",
    "pca = PCA(n_components=0.95, random_state=42)  # Mantém 95% da variância\n",
    "X_train_pca = pca.fit_transform(X_train_scaled)\n",
    "X_test_pca = pca.transform(X_test_scaled)"
   ]
  },
  {
   "cell_type": "code",
   "execution_count": 14,
   "metadata": {},
   "outputs": [
    {
     "data": {
      "text/plain": [
       "DecisionTreeClassifier(random_state=42)"
      ]
     },
     "execution_count": 14,
     "metadata": {},
     "output_type": "execute_result"
    }
   ],
   "source": [
    "# Treinar o modelo com PCA\n",
    "decision_tree_pca = DecisionTreeClassifier(random_state=42)\n",
    "decision_tree_pca.fit(X_train_pca, y_train)"
   ]
  },
  {
   "cell_type": "code",
   "execution_count": 15,
   "metadata": {},
   "outputs": [],
   "source": [
    "# Previsão\n",
    "y_pred_pca = decision_tree_pca.predict(X_test_pca)\n",
    "y_pred_proba_pca = decision_tree_pca.predict_proba(X_test_pca)"
   ]
  },
  {
   "cell_type": "code",
   "execution_count": 16,
   "metadata": {},
   "outputs": [
    {
     "name": "stderr",
     "output_type": "stream",
     "text": [
      "<ipython-input-2-75fbf0783972>:4: RuntimeWarning: divide by zero encountered in log\n",
      "  ll_model = np.sum(np.log(y_pred_proba))  # log-likelihood do modelo\n"
     ]
    }
   ],
   "source": [
    "# Avaliação do modelo com PCA\n",
    "accuracy_pca, auc_score_pca, cohen_k_pca, r2_pca = evaluate_model(y_test, y_pred_pca, y_pred_proba_pca)"
   ]
  },
  {
   "cell_type": "code",
   "execution_count": 17,
   "metadata": {},
   "outputs": [
    {
     "name": "stdout",
     "output_type": "stream",
     "text": [
      "\n",
      "### Decision Tree com PCA ###\n",
      "Accuracy: 0.7990\n",
      "AUC: N/A\n",
      "Cohen's Kappa: 0.7764\n",
      "Pseudo R²: inf\n"
     ]
    }
   ],
   "source": [
    "print(f\"\\n### Decision Tree com PCA ###\")\n",
    "print(f\"Accuracy: {accuracy_pca:.4f}\")\n",
    "if auc_score_pca is not None:\n",
    "    print(f\"AUC: {auc_score_pca:.4f}\")\n",
    "else:\n",
    "    print(\"AUC: N/A\")\n",
    "print(f\"Cohen's Kappa: {cohen_k_pca:.4f}\")\n",
    "print(f\"Pseudo R²: {r2_pca:.4f}\")"
   ]
  }
 ],
 "metadata": {
  "kernelspec": {
   "display_name": "base",
   "language": "python",
   "name": "python3"
  },
  "language_info": {
   "codemirror_mode": {
    "name": "ipython",
    "version": 3
   },
   "file_extension": ".py",
   "mimetype": "text/x-python",
   "name": "python",
   "nbconvert_exporter": "python",
   "pygments_lexer": "ipython3",
   "version": "3.8.3"
  }
 },
 "nbformat": 4,
 "nbformat_minor": 2
}
