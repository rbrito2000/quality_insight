{
 "cells": [
  {
   "cell_type": "code",
   "execution_count": 1,
   "metadata": {},
   "outputs": [],
   "source": [
    "import pandas as pd\n",
    "import numpy as np\n",
    "from sklearn.model_selection import train_test_split\n",
    "from sklearn.preprocessing import StandardScaler\n",
    "from sklearn.decomposition import PCA\n",
    "from sklearn.neural_network import MLPClassifier\n",
    "from sklearn.metrics import accuracy_score, cohen_kappa_score, classification_report, confusion_matrix, roc_auc_score, r2_score\n",
    "\n",
    "# Definir seed para reprodutibilidade\n",
    "seed = 42\n",
    "np.random.seed(seed)\n"
   ]
  },
  {
   "cell_type": "code",
   "execution_count": 2,
   "metadata": {},
   "outputs": [],
   "source": [
    "# Carregar os dados\n",
    "df = pd.read_csv('../data/weaving_rejection_dataset_updated.csv')"
   ]
  },
  {
   "cell_type": "code",
   "execution_count": 3,
   "metadata": {},
   "outputs": [],
   "source": [
    "# Separar features e target\n",
    "X = df.drop('Rejection', axis=1)  # Features\n",
    "y = df['Rejection']               # Target"
   ]
  },
  {
   "cell_type": "code",
   "execution_count": 4,
   "metadata": {},
   "outputs": [],
   "source": [
    "# Dividir os dados em conjuntos de treino e teste\n",
    "X_train, X_test, y_train, y_test = train_test_split(X, y, test_size=0.2, random_state=seed)"
   ]
  },
  {
   "cell_type": "code",
   "execution_count": 5,
   "metadata": {},
   "outputs": [],
   "source": [
    "# Escalar os dados\n",
    "scaler = StandardScaler()\n",
    "X_train_scaled = scaler.fit_transform(X_train)\n",
    "X_test_scaled = scaler.transform(X_test)"
   ]
  },
  {
   "cell_type": "code",
   "execution_count": 6,
   "metadata": {},
   "outputs": [],
   "source": [
    "# Função para avaliar o modelo\n",
    "def evaluate_model(model, X_test, y_test):\n",
    "    y_pred = model.predict(X_test)\n",
    "    \n",
    "    # Verifica se o classificador tem o método 'predict_proba' para calcular AUC\n",
    "    if hasattr(model, \"predict_proba\"):\n",
    "        y_pred_proba = model.predict_proba(X_test)[:, 1]  # Probabilidade para a classe positiva\n",
    "        auc = roc_auc_score(y_test, y_pred_proba)\n",
    "        r2 = r2_score(y_test, y_pred_proba)\n",
    "    else:\n",
    "        auc = None  # AUC não será calculada se o modelo não suportar 'predict_proba'\n",
    "        r2 = None   # R^2 não será calculado se o modelo não suportar 'predict_proba'\n",
    "\n",
    "    accuracy = accuracy_score(y_test, y_pred)\n",
    "    kappa = cohen_kappa_score(y_test, y_pred)\n",
    "    \n",
    "    print(f\"Accuracy: {accuracy:.4f}\")\n",
    "    print(f\"Cohen's Kappa: {kappa:.4f}\")\n",
    "    if auc is not None:\n",
    "        print(f\"AUC: {auc:.4f}\")\n",
    "    if r2 is not None:\n",
    "        print(f\"R^2: {r2:.4f}\")\n",
    "    print(\"Classification Report:\")\n",
    "    print(classification_report(y_test, y_pred))\n",
    "    print(\"Confusion Matrix:\")\n",
    "    print(confusion_matrix(y_test, y_pred))\n",
    "\n",
    "    return accuracy, kappa, auc, r2"
   ]
  },
  {
   "cell_type": "code",
   "execution_count": 7,
   "metadata": {},
   "outputs": [
    {
     "name": "stdout",
     "output_type": "stream",
     "text": [
      "[  10    3  180    0   58   92   37   59   17   36   30    6   45   26\n",
      "    4    7    8   13   12   52   94    9    2   22   19  210    5   25\n",
      "  124   28   27   85   88   73 1180  102   31   68   11   50   66   14\n",
      "   35   29  185   98   83   15   39  156   48  453  110   71   23   18\n",
      "  297  198   65   33  301  275   16   44  130  530   20   79  247   51\n",
      "  188   62   80  125   42  313   21  132  117   40   72   24   49  211\n",
      "  169  621  284  906   38   32   34    1  146  212  184  203   64   57\n",
      "   67  324 1760  224   75   47   90  128  194   46  104  350  139  186\n",
      "   74  325   78  244  287  152  924  222   69  335  264  505  196  141\n",
      "  105   96   53 1043  254 1469  722  281  166   55  269  134   54  249\n",
      "  268   91  413   60  167 1071   70  885  237   43   41   99  154  187\n",
      "   61  108  183 1036  391  285  107  317   63 2062  133   56  106  290\n",
      "  123  116  140 1087  311  189   86 1414  533 1427  291  200   82  496\n",
      "   76  213  255  343  267  233  276  129  163  103  138  266  365  220\n",
      "  547  120 1045  337 1302  137  280  666 1094  286  654  487  172  113\n",
      "  460  414   97  241  201  142  127  428  914  326  304  344  208  900\n",
      "  341  122  199  221  227  135  338  192  975  191  320  171  205  312\n",
      "  121  202  641  789  126  272   87  207  181  490   89  230 1270  206\n",
      "  195  715  316  111   93  147  226  242  170  399  239   81  538  367\n",
      "   84  162  397  164 1600  518  410 1208  144  536  303  177  197  174\n",
      "   77  149  934  757  423  478  258 1067  214  379 2118  560  711  250\n",
      "   95  528  545  155 1424  225  395  232 1173 1655  570  404  253 3140\n",
      "  459  512  179  175  259  551  114  160  472  521  540  158  366 1182\n",
      " 1764  274  471  153  735  474  257  593  260 1298  363 1068  823  878\n",
      " 1310 1073  136  376 3262  193  151  100  229  334  775  261  248 1358\n",
      "  458  289  502 1439  369 1526  318  148  165  364  332  805  235 1213\n",
      " 1008  161 1785  215  109  314  671 2070  695  463  277  295  216  381\n",
      " 2088  402 1103  101  173  939  742 1575  346 2129  246 1083  115  300\n",
      "  327  940  589  542  418 1056  143 1849 1221 1065 1855  437  501  612\n",
      "  511  360 3161 1217  168  945  580  592  243  329  625  400 1368  820\n",
      "  499  807 1819  438  626 1204  802  571 1716  408  298  608  925  992\n",
      "  456 1243  976 1109  231  435 1163  416  178  361  150  527  733  534\n",
      "  157  390 1015  517  294  600 1633  112 1052  749 1199  412  524 1019\n",
      "  522 1516  236  507 1387 1090  854  352  537 1722  719 1055  771  468\n",
      " 1452 1290  333  673  439  265  563 3256  515  234  928  310  488  526\n",
      " 1567 1230 1117  401 1004  703  555 1150  425  368  427  217  869  293\n",
      "  485 1003  451  858  898 1162  176  477  718  879  306  145 2078]\n",
      "[ 416  270    0   14   51   88   22   80   20   18  203  146  132   36\n",
      "   12  350   47  117   13   19   48   30  505   58    3  228  254  120\n",
      "   28   99    9   52    1  324  187   91   16  198   62   15   31   32\n",
      "   10    8   49  138  140   71   69   40   27   54 1600   24   11 1518\n",
      "   94   17  224    6   44    4 1487   86   42   66  128    2   57   26\n",
      "    5   25   45    7   93  100 1163   60 3161  437  221   35   21   33\n",
      "  205  154  166   23  130   89   34   63  284   29   38  124   81   59\n",
      "   37  197  110  311   67  335  217  542   41 1253   72   68  188  149\n",
      "   64 1004   85  102  527  116   55  401  536   39  241  538  281   83\n",
      "  237   74   98  380  390  223  239  211  185   79   56   53  191  134\n",
      "   78  152  202  477  621  341  139  530   82 1569  232  207  137  253\n",
      "  272  487  201  147  165   76  319   84   97  131  156  391  104  153\n",
      "  892   92  251  313  212  162  123  129   75   70  266  113   46 1072\n",
      "  325   96  190  285  376  297  265   73  794  287  157  189  208 1572\n",
      "  169  507   65 2129  171  277  367   90  337  249   43 1853  227  107\n",
      "  136  247  317  213  181  511  220  109 1596  105  399  192  560  346\n",
      "  589 1122  210  586  215  141  298  214  269   77  180 1508  125  108\n",
      "  978 1516   61 1239  135  173   87  167   95  439  919  268  196  471\n",
      "  103   50  316  150  274  172  111  775  142 3151  466  312  122  264\n",
      "  307  365  121  243  352  359  301  182  290 2116  614 1014  379  864\n",
      "  842  244  158  115  148  114  486  374  361  715 1280  496  164  106\n",
      "  868  809  996  175  155  890 1045  200  216  143  193  549  174  101\n",
      "  452  280  382  195  601 1540  402 1321  330  179  222  127  887  230\n",
      " 1008 2118  118 1553]\n"
     ]
    }
   ],
   "source": [
    "print(y_train.unique())\n",
    "print(y_test.unique())"
   ]
  },
  {
   "cell_type": "code",
   "execution_count": 8,
   "metadata": {},
   "outputs": [],
   "source": [
    "# Exemplo para classificação binária: converter para 0 e 1\n",
    "y_train = (y_train > 0.5).astype(int)\n",
    "y_test = (y_test > 0.5).astype(int)"
   ]
  },
  {
   "cell_type": "code",
   "execution_count": 9,
   "metadata": {},
   "outputs": [
    {
     "name": "stdout",
     "output_type": "stream",
     "text": [
      "Rede Neural Sem PCA:\n",
      "Accuracy: 0.8885\n",
      "Cohen's Kappa: 0.7392\n",
      "AUC: 0.9487\n",
      "R^2: 0.6152\n",
      "Classification Report:\n",
      "              precision    recall  f1-score   support\n",
      "\n",
      "           0       0.83      0.81      0.82      1381\n",
      "           1       0.91      0.92      0.92      3021\n",
      "\n",
      "    accuracy                           0.89      4402\n",
      "   macro avg       0.87      0.87      0.87      4402\n",
      "weighted avg       0.89      0.89      0.89      4402\n",
      "\n",
      "Confusion Matrix:\n",
      "[[1118  263]\n",
      " [ 228 2793]]\n"
     ]
    },
    {
     "name": "stderr",
     "output_type": "stream",
     "text": [
      "c:\\Users\\Admin\\anaconda3\\lib\\site-packages\\sklearn\\neural_network\\_multilayer_perceptron.py:582: ConvergenceWarning: Stochastic Optimizer: Maximum iterations (300) reached and the optimization hasn't converged yet.\n",
      "  warnings.warn(\n"
     ]
    },
    {
     "data": {
      "text/plain": [
       "(0.888459791004089, 0.7391714963503737, 0.9486903286935933, 0.6152242077057686)"
      ]
     },
     "execution_count": 9,
     "metadata": {},
     "output_type": "execute_result"
    }
   ],
   "source": [
    "# Rede neural sem PCA\n",
    "print(\"Rede Neural Sem PCA:\")\n",
    "mlp_no_pca = MLPClassifier(hidden_layer_sizes=(100,), activation='relu', solver='adam', max_iter=300, random_state=seed)\n",
    "mlp_no_pca.fit(X_train_scaled, y_train)\n",
    "evaluate_model(mlp_no_pca, X_test_scaled, y_test)\n"
   ]
  },
  {
   "cell_type": "code",
   "execution_count": 10,
   "metadata": {},
   "outputs": [],
   "source": [
    "# Aplicando PCA com 95% de variância explicada\n",
    "pca = PCA(0.95, random_state=seed)\n",
    "X_train_pca = pca.fit_transform(X_train_scaled)\n",
    "X_test_pca = pca.transform(X_test_scaled)"
   ]
  },
  {
   "cell_type": "code",
   "execution_count": 11,
   "metadata": {},
   "outputs": [
    {
     "name": "stdout",
     "output_type": "stream",
     "text": [
      "\n",
      "Rede Neural Com PCA:\n",
      "Accuracy: 0.8751\n",
      "Cohen's Kappa: 0.6976\n",
      "AUC: 0.9429\n",
      "R^2: 0.5857\n",
      "Classification Report:\n",
      "              precision    recall  f1-score   support\n",
      "\n",
      "           0       0.85      0.73      0.78      1381\n",
      "           1       0.88      0.94      0.91      3021\n",
      "\n",
      "    accuracy                           0.88      4402\n",
      "   macro avg       0.87      0.83      0.85      4402\n",
      "weighted avg       0.87      0.88      0.87      4402\n",
      "\n",
      "Confusion Matrix:\n",
      "[[1003  378]\n",
      " [ 172 2849]]\n"
     ]
    },
    {
     "name": "stderr",
     "output_type": "stream",
     "text": [
      "c:\\Users\\Admin\\anaconda3\\lib\\site-packages\\sklearn\\neural_network\\_multilayer_perceptron.py:582: ConvergenceWarning: Stochastic Optimizer: Maximum iterations (300) reached and the optimization hasn't converged yet.\n",
      "  warnings.warn(\n"
     ]
    },
    {
     "data": {
      "text/plain": [
       "(0.8750567923671059, 0.6975954271222591, 0.9429343377434473, 0.585651653576556)"
      ]
     },
     "execution_count": 11,
     "metadata": {},
     "output_type": "execute_result"
    }
   ],
   "source": [
    "# Rede neural com PCA\n",
    "print(\"\\nRede Neural Com PCA:\")\n",
    "mlp_with_pca = MLPClassifier(hidden_layer_sizes=(100,), activation='relu', solver='adam', max_iter=300, random_state=seed)\n",
    "mlp_with_pca.fit(X_train_pca, y_train)\n",
    "evaluate_model(mlp_with_pca, X_test_pca, y_test)"
   ]
  }
 ],
 "metadata": {
  "kernelspec": {
   "display_name": "base",
   "language": "python",
   "name": "python3"
  },
  "language_info": {
   "codemirror_mode": {
    "name": "ipython",
    "version": 3
   },
   "file_extension": ".py",
   "mimetype": "text/x-python",
   "name": "python",
   "nbconvert_exporter": "python",
   "pygments_lexer": "ipython3",
   "version": "3.8.3"
  }
 },
 "nbformat": 4,
 "nbformat_minor": 2
}
