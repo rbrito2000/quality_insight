{
 "cells": [
  {
   "cell_type": "code",
   "execution_count": 14,
   "metadata": {},
   "outputs": [],
   "source": [
    "import pandas as pd\n",
    "import numpy as np\n",
    "from sklearn.model_selection import train_test_split\n",
    "from sklearn.preprocessing import StandardScaler\n",
    "from sklearn.decomposition import PCA\n",
    "from sklearn.svm import SVR\n",
    "from sklearn.metrics import accuracy_score, cohen_kappa_score, mean_squared_error, r2_score, roc_auc_score\n",
    "from sklearn.metrics import roc_curve\n",
    "import time"
   ]
  },
  {
   "cell_type": "code",
   "execution_count": 15,
   "metadata": {},
   "outputs": [],
   "source": [
    "# Configuração de seed para reprodutibilidade\n",
    "seed = 42\n",
    "np.random.seed(seed)"
   ]
  },
  {
   "cell_type": "code",
   "execution_count": 16,
   "metadata": {},
   "outputs": [],
   "source": [
    "# Carregar os dados\n",
    "df = pd.read_csv('../data/weaving_rejection_dataset_updated.csv')"
   ]
  },
  {
   "cell_type": "code",
   "execution_count": 17,
   "metadata": {},
   "outputs": [],
   "source": [
    "# Separar as features (X) e a variável alvo (y)\n",
    "X = df.drop('Rejection', axis=1)\n",
    "y = df['Rejection']"
   ]
  },
  {
   "cell_type": "code",
   "execution_count": 18,
   "metadata": {},
   "outputs": [],
   "source": [
    "# Dividir em conjunto de treino e teste\n",
    "X_train, X_test, y_train, y_test = train_test_split(X, y, test_size=0.2, random_state=seed)"
   ]
  },
  {
   "cell_type": "code",
   "execution_count": 19,
   "metadata": {},
   "outputs": [],
   "source": [
    "# Escalar os dados (normalização)\n",
    "scaler = StandardScaler()\n",
    "X_train_scaled = scaler.fit_transform(X_train)\n",
    "X_test_scaled = scaler.transform(X_test)"
   ]
  },
  {
   "cell_type": "code",
   "execution_count": 20,
   "metadata": {},
   "outputs": [],
   "source": [
    "# Função para avaliar o modelo\n",
    "def evaluate_model(model, X_test, y_test):\n",
    "    y_pred = model.predict(X_test)\n",
    "    \n",
    "    # Binarização das previsões (transformando para classificação)\n",
    "    y_pred_class = (y_pred >= 0.5).astype(int)  # Limiar para binarizar\n",
    "    \n",
    "    # Métricas de classificação\n",
    "    accuracy = accuracy_score(y_test, y_pred_class)\n",
    "    kappa = cohen_kappa_score(y_test, y_pred_class)\n",
    "    \n",
    "    # Calcular o AUC para modelo binário\n",
    "    if len(np.unique(y_test)) == 2:\n",
    "        fpr, tpr, _ = roc_curve(y_test, y_pred)\n",
    "        auc = roc_auc_score(y_test, y_pred)\n",
    "    else:\n",
    "        auc = None  # Não aplicável para multiclass\n",
    "    \n",
    "    mse = mean_squared_error(y_test, y_pred)\n",
    "    r2 = r2_score(y_test, y_pred)\n",
    "    \n",
    "    print(f\"Mean Squared Error: {mse:.4f}\")\n",
    "    print(f\"R² Score: {r2:.4f}\")\n",
    "    print(f\"Accuracy: {accuracy:.4f}\")\n",
    "    print(f\"Cohen's Kappa: {kappa:.4f}\")\n",
    "    if auc is not None:\n",
    "        print(f\"AUC: {auc:.4f}\")\n",
    "    else:\n",
    "        print(\"AUC não disponível para multiclasses.\")\n",
    "    \n",
    "    return accuracy, kappa, auc, r2"
   ]
  },
  {
   "cell_type": "code",
   "execution_count": 21,
   "metadata": {},
   "outputs": [
    {
     "name": "stdout",
     "output_type": "stream",
     "text": [
      "Treinando modelo SVR sem PCA...\n"
     ]
    }
   ],
   "source": [
    "# Modelo sem PCA\n",
    "print(\"Treinando modelo SVR sem PCA...\")\n",
    "svr_model = SVR(kernel='rbf')\n",
    "start_time = time.time()\n",
    "svr_model.fit(X_train_scaled, y_train)\n",
    "elapsed_time = time.time() - start_time"
   ]
  },
  {
   "cell_type": "code",
   "execution_count": 22,
   "metadata": {},
   "outputs": [
    {
     "name": "stdout",
     "output_type": "stream",
     "text": [
      "Tempo de treinamento: 00:00:14\n",
      "Avaliação do modelo SVR sem PCA:\n",
      "Mean Squared Error: 31380.1781\n",
      "R² Score: 0.1108\n",
      "Accuracy: 0.0756\n",
      "Cohen's Kappa: 0.0502\n",
      "AUC não disponível para multiclasses.\n"
     ]
    },
    {
     "data": {
      "text/plain": [
       "(0.07564743298500681, 0.050164126424834365, None, 0.1107530106048551)"
      ]
     },
     "execution_count": 22,
     "metadata": {},
     "output_type": "execute_result"
    }
   ],
   "source": [
    "print(f\"Tempo de treinamento: {time.strftime('%H:%M:%S', time.gmtime(elapsed_time))}\")\n",
    "print(\"Avaliação do modelo SVR sem PCA:\")\n",
    "evaluate_model(svr_model, X_test_scaled, y_test)"
   ]
  },
  {
   "cell_type": "code",
   "execution_count": 23,
   "metadata": {},
   "outputs": [
    {
     "name": "stdout",
     "output_type": "stream",
     "text": [
      "\n",
      "Aplicando PCA com 95% de variância explicada...\n"
     ]
    }
   ],
   "source": [
    "# Aplicar PCA com 95% de variância explicada\n",
    "print(\"\\nAplicando PCA com 95% de variância explicada...\")\n",
    "pca = PCA(0.95)\n",
    "X_train_pca = pca.fit_transform(X_train_scaled)\n",
    "X_test_pca = pca.transform(X_test_scaled)"
   ]
  },
  {
   "cell_type": "code",
   "execution_count": 24,
   "metadata": {},
   "outputs": [
    {
     "name": "stdout",
     "output_type": "stream",
     "text": [
      "Treinando modelo SVR com PCA...\n"
     ]
    }
   ],
   "source": [
    "# Modelo com PCA\n",
    "print(\"Treinando modelo SVR com PCA...\")\n",
    "svr_model_pca = SVR(kernel='rbf')\n",
    "start_time_pca = time.time()\n",
    "svr_model_pca.fit(X_train_pca, y_train)\n",
    "elapsed_time_pca = time.time() - start_time_pca"
   ]
  },
  {
   "cell_type": "code",
   "execution_count": 25,
   "metadata": {},
   "outputs": [
    {
     "name": "stdout",
     "output_type": "stream",
     "text": [
      "Tempo de treinamento com PCA: 00:00:12\n",
      "Avaliação do modelo SVR com PCA:\n",
      "Mean Squared Error: 31234.8003\n",
      "R² Score: 0.1149\n",
      "Accuracy: 0.0756\n",
      "Cohen's Kappa: 0.0500\n",
      "AUC não disponível para multiclasses.\n"
     ]
    },
    {
     "data": {
      "text/plain": [
       "(0.07564743298500681, 0.0499566130606357, None, 0.11487270514998904)"
      ]
     },
     "execution_count": 25,
     "metadata": {},
     "output_type": "execute_result"
    }
   ],
   "source": [
    "print(f\"Tempo de treinamento com PCA: {time.strftime('%H:%M:%S', time.gmtime(elapsed_time_pca))}\")\n",
    "print(\"Avaliação do modelo SVR com PCA:\")\n",
    "evaluate_model(svr_model_pca, X_test_pca, y_test)"
   ]
  }
 ],
 "metadata": {
  "kernelspec": {
   "display_name": "base",
   "language": "python",
   "name": "python3"
  },
  "language_info": {
   "codemirror_mode": {
    "name": "ipython",
    "version": 3
   },
   "file_extension": ".py",
   "mimetype": "text/x-python",
   "name": "python",
   "nbconvert_exporter": "python",
   "pygments_lexer": "ipython3",
   "version": "3.8.3"
  }
 },
 "nbformat": 4,
 "nbformat_minor": 2
}
