{
 "cells": [
  {
   "cell_type": "code",
   "execution_count": 23,
   "metadata": {},
   "outputs": [],
   "source": [
    "# Importação das bibliotecas necessárias\n",
    "import pandas as pd\n",
    "import numpy as np\n",
    "from sklearn.model_selection import train_test_split\n",
    "from sklearn.linear_model import LogisticRegression\n",
    "from sklearn.decomposition import PCA\n",
    "from sklearn.metrics import accuracy_score, roc_auc_score, cohen_kappa_score, r2_score\n",
    "from sklearn.preprocessing import StandardScaler\n",
    "from sklearn.metrics import confusion_matrix, roc_curve, auc\n",
    "\n",
    "# Fixando a seed para reprodutibilidade\n",
    "np.random.seed(42)"
   ]
  },
  {
   "cell_type": "code",
   "execution_count": 24,
   "metadata": {},
   "outputs": [],
   "source": [
    "# Função para calcular o R^2 para classificadores\n",
    "def pseudo_r2(y_true, y_pred_proba):\n",
    "    ll_null = np.sum(np.log(np.mean(y_true) * np.ones(len(y_true))))  # log-likelihood nula\n",
    "    ll_model = np.sum(np.log(y_pred_proba))  # log-likelihood do modelo\n",
    "    return 1 - (ll_model / ll_null)"
   ]
  },
  {
   "cell_type": "code",
   "execution_count": 25,
   "metadata": {},
   "outputs": [],
   "source": [
    "# Função para avaliar o modelo\n",
    "def evaluate_model(y_true, y_pred, y_pred_proba):\n",
    "    accuracy = accuracy_score(y_true, y_pred)\n",
    "    \n",
    "    # AUC para multiclasse, especificando 'ovr' (one-vs-rest)\n",
    "    try:\n",
    "        auc_score = roc_auc_score(y_true, y_pred_proba, multi_class='ovr')\n",
    "    except ValueError:\n",
    "        auc_score = None  # Se o cálculo do AUC não for possível para algum caso específico\n",
    "    \n",
    "    cohen_k = cohen_kappa_score(y_true, y_pred)\n",
    "    r2 = pseudo_r2(y_true, y_pred_proba)\n",
    "\n",
    "    return accuracy, auc_score, cohen_k, r2"
   ]
  },
  {
   "cell_type": "code",
   "execution_count": 26,
   "metadata": {},
   "outputs": [],
   "source": [
    "# Carregar os dados\n",
    "df = pd.read_csv('../data/weaving_rejection_dataset_updated.csv')"
   ]
  },
  {
   "cell_type": "code",
   "execution_count": 27,
   "metadata": {},
   "outputs": [],
   "source": [
    "# Separando as variáveis independentes (X) e a variável dependente (y)\n",
    "X = df.drop('Rejection', axis=1)\n",
    "y = df['Rejection']"
   ]
  },
  {
   "cell_type": "code",
   "execution_count": 28,
   "metadata": {},
   "outputs": [],
   "source": [
    "# Dividindo os dados em treino e teste com seed fixa\n",
    "X_train, X_test, y_train, y_test = train_test_split(X, y, test_size=0.3, random_state=42)"
   ]
  },
  {
   "cell_type": "code",
   "execution_count": 29,
   "metadata": {},
   "outputs": [],
   "source": [
    "# Escalando as variáveis\n",
    "scaler = StandardScaler()\n",
    "X_train_scaled = scaler.fit_transform(X_train)\n",
    "X_test_scaled = scaler.transform(X_test)"
   ]
  },
  {
   "cell_type": "code",
   "execution_count": 30,
   "metadata": {},
   "outputs": [
    {
     "data": {
      "text/plain": [
       "LogisticRegression(multi_class='ovr', random_state=42)"
      ]
     },
     "execution_count": 30,
     "metadata": {},
     "output_type": "execute_result"
    }
   ],
   "source": [
    "### 1. Modelo de Regressão Logística sem PCA\n",
    "log_reg = LogisticRegression(random_state=42, multi_class='ovr', solver='lbfgs')  # multiclasse suportada\n",
    "log_reg.fit(X_train_scaled, y_train)"
   ]
  },
  {
   "cell_type": "code",
   "execution_count": 31,
   "metadata": {},
   "outputs": [],
   "source": [
    "# Previsão\n",
    "y_pred = log_reg.predict(X_test_scaled)\n",
    "y_pred_proba = log_reg.predict_proba(X_test_scaled)[:, 1]  # Probabilidade da classe positiva"
   ]
  },
  {
   "cell_type": "code",
   "execution_count": 32,
   "metadata": {},
   "outputs": [],
   "source": [
    "# Avaliação do modelo\n",
    "accuracy, auc_score, cohen_k, r2 = evaluate_model(y_test, y_pred, y_pred_proba)"
   ]
  },
  {
   "cell_type": "code",
   "execution_count": 35,
   "metadata": {},
   "outputs": [
    {
     "name": "stdout",
     "output_type": "stream",
     "text": [
      "### Regressão Logística sem PCA ###\n",
      "Accuracy: 0.3159\n",
      "AUC: N/A\n",
      "Cohen's Kappa: 0.1032\n",
      "Pseudo R²: 2.5736\n"
     ]
    }
   ],
   "source": [
    "# Avaliação do modelo sem PCA\n",
    "print(f\"### Regressão Logística sem PCA ###\")\n",
    "print(f\"Accuracy: {accuracy:.4f}\")\n",
    "if auc_score is not None:\n",
    "    print(f\"AUC: {auc_score:.4f}\")\n",
    "else:\n",
    "    print(\"AUC: N/A\")\n",
    "print(f\"Cohen's Kappa: {cohen_k:.4f}\")\n",
    "print(f\"Pseudo R²: {r2:.4f}\")"
   ]
  },
  {
   "cell_type": "code",
   "execution_count": 36,
   "metadata": {},
   "outputs": [],
   "source": [
    "### 2. Modelo de Regressão Logística com PCA\n",
    "# Aplicar PCA\n",
    "pca = PCA(n_components=0.95, random_state=42)  # Mantém 95% da variância\n",
    "X_train_pca = pca.fit_transform(X_train_scaled)\n",
    "X_test_pca = pca.transform(X_test_scaled)"
   ]
  },
  {
   "cell_type": "code",
   "execution_count": 37,
   "metadata": {},
   "outputs": [
    {
     "name": "stderr",
     "output_type": "stream",
     "text": [
      "c:\\Users\\Admin\\anaconda3\\lib\\site-packages\\sklearn\\linear_model\\_logistic.py:762: ConvergenceWarning: lbfgs failed to converge (status=1):\n",
      "STOP: TOTAL NO. of ITERATIONS REACHED LIMIT.\n",
      "\n",
      "Increase the number of iterations (max_iter) or scale the data as shown in:\n",
      "    https://scikit-learn.org/stable/modules/preprocessing.html\n",
      "Please also refer to the documentation for alternative solver options:\n",
      "    https://scikit-learn.org/stable/modules/linear_model.html#logistic-regression\n",
      "  n_iter_i = _check_optimize_result(\n"
     ]
    },
    {
     "data": {
      "text/plain": [
       "LogisticRegression(random_state=42)"
      ]
     },
     "execution_count": 37,
     "metadata": {},
     "output_type": "execute_result"
    }
   ],
   "source": [
    "# Treinar o modelo com PCA\n",
    "log_reg_pca = LogisticRegression(random_state=42)\n",
    "log_reg_pca.fit(X_train_pca, y_train)"
   ]
  },
  {
   "cell_type": "code",
   "execution_count": 38,
   "metadata": {},
   "outputs": [],
   "source": [
    "# Previsão\n",
    "y_pred_pca = log_reg_pca.predict(X_test_pca)\n",
    "y_pred_proba_pca = log_reg_pca.predict_proba(X_test_pca)[:, 1]"
   ]
  },
  {
   "cell_type": "code",
   "execution_count": 39,
   "metadata": {},
   "outputs": [],
   "source": [
    "# Avaliação do modelo com PCA\n",
    "accuracy_pca, auc_score_pca, cohen_k_pca, r2_pca = evaluate_model(y_test, y_pred_pca, y_pred_proba_pca)"
   ]
  },
  {
   "cell_type": "code",
   "execution_count": 40,
   "metadata": {},
   "outputs": [
    {
     "name": "stdout",
     "output_type": "stream",
     "text": [
      "\n",
      "### Regressão Logística com PCA ###\n",
      "Accuracy: 0.3265\n",
      "AUC: N/A\n",
      "Cohen's Kappa: 0.1201\n",
      "Pseudo R²: 2.8211\n"
     ]
    }
   ],
   "source": [
    "# Avaliação do modelo com PCA\n",
    "print(f\"\\n### Regressão Logística com PCA ###\")\n",
    "print(f\"Accuracy: {accuracy_pca:.4f}\")\n",
    "if auc_score_pca is not None:\n",
    "    print(f\"AUC: {auc_score_pca:.4f}\")\n",
    "else:\n",
    "    print(\"AUC: N/A\")\n",
    "print(f\"Cohen's Kappa: {cohen_k_pca:.4f}\")\n",
    "print(f\"Pseudo R²: {r2_pca:.4f}\")"
   ]
  }
 ],
 "metadata": {
  "kernelspec": {
   "display_name": "base",
   "language": "python",
   "name": "python3"
  },
  "language_info": {
   "codemirror_mode": {
    "name": "ipython",
    "version": 3
   },
   "file_extension": ".py",
   "mimetype": "text/x-python",
   "name": "python",
   "nbconvert_exporter": "python",
   "pygments_lexer": "ipython3",
   "version": "3.8.3"
  }
 },
 "nbformat": 4,
 "nbformat_minor": 2
}
